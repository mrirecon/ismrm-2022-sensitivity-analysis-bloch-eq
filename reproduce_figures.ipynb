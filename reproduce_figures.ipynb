{
 "cells": [
  {
   "cell_type": "code",
   "execution_count": null,
   "metadata": {},
   "outputs": [],
   "source": [
    "# Libraries for visualization\n",
    "from IPython.display import Image, display\n",
    "import matplotlib.pyplot as plt\n",
    "import matplotlib.image as mpimg\n",
    "from matplotlib import rcParams"
   ]
  },
  {
   "cell_type": "markdown",
   "metadata": {},
   "source": [
    "# Figure 2\n",
    "\n",
    "Execute the script reproducing Figure 02."
   ]
  },
  {
   "cell_type": "code",
   "execution_count": null,
   "metadata": {},
   "outputs": [],
   "source": [
    "%%bash\n",
    "\n",
    "# Go to Figure folder\n",
    "cd 02_irbssfp\n",
    "\n",
    "# Run scripts\n",
    "./run_figs.sh  &>/dev/null\n",
    "\n",
    "cd ..\n"
   ]
  },
  {
   "cell_type": "markdown",
   "metadata": {},
   "source": [
    "Visualize the newly generated figure and compare it to the reference figure."
   ]
  },
  {
   "cell_type": "code",
   "execution_count": null,
   "metadata": {},
   "outputs": [],
   "source": [
    "# Plot new created and reference figure next to each other\n",
    "rcParams['figure.figsize'] = 18 , 20\n",
    "\n",
    "# display images\n",
    "fig, ax = plt.subplots(1,2)\n",
    "ax[0].imshow(mpimg.imread('02_irbssfp/figure_02.png'))\n",
    "ax[1].imshow(mpimg.imread('02_irbssfp/figure_02_ref.png'))\n",
    "\n",
    "ax[0].set_title('New Created Figure 2')\n",
    "ax[0].set_yticklabels([])\n",
    "ax[0].set_xticklabels([])\n",
    "ax[0].xaxis.set_ticks_position('none')\n",
    "ax[0].yaxis.set_ticks_position('none')\n",
    "ax[0].set_axis_off()\n",
    "\n",
    "ax[1].set_title('Reference Figure 2')\n",
    "ax[1].set_yticklabels([])\n",
    "ax[1].set_xticklabels([])\n",
    "ax[1].xaxis.set_ticks_position('none')\n",
    "ax[1].yaxis.set_ticks_position('none')\n",
    "ax[1].set_axis_off()"
   ]
  },
  {
   "cell_type": "markdown",
   "metadata": {},
   "source": [
    "Compare results with reference values. Calculate normalized rot-mean-square error (NRMSE) between reference and newly reproduced result."
   ]
  },
  {
   "cell_type": "code",
   "execution_count": null,
   "metadata": {},
   "outputs": [],
   "source": [
    "%%bash\n",
    "\n",
    "# NRMSE between difference quotient results\n",
    "\n",
    "# Up to this TOL the NRMSE the results are assumed to be successfully reproduced\n",
    "TOL_GRAD=0.005 # Larger than DSA error, because of numerical noise\n",
    "\n",
    "ERROR_GRAD=$(bart nrmse 02_irbssfp/testing/grad 02_irbssfp/ref/grad)\n",
    "\n",
    "echo \"Difference quotient error is: ${ERROR_GRAD}.\"\n",
    "\n",
    "if (( $(echo \"$ERROR_GRAD > $TOL_GRAD\" |bc -l) ));\n",
    "then\n",
    "    echo \"Reproduction was NOT SUCCESSFUL.\"\n",
    "else\n",
    "    echo -e \"Reproduction was SUCCESSFUL.\\n\\n\"\n",
    "fi\n",
    "\n",
    "\n",
    "# NRMSE between direct sensitivity analysis results\n",
    "\n",
    "TOL_SENS=0.0001\n",
    "\n",
    "ERROR_SENS=$(bart nrmse 02_irbssfp/testing/sens 02_irbssfp/ref/sens)\n",
    "\n",
    "echo \"Direct Sensitivity Analysis error is: ${ERROR_SENS}.\"\n",
    "\n",
    "if (( $(echo \"$ERROR_SENS > $TOL_SENS\" |bc -l) ));\n",
    "then\n",
    "    echo \"Reproduction was NOT SUCCESSFUL.\"\n",
    "else\n",
    "    echo \"Reproduction was SUCCESSFUL.\"\n",
    "fi\n"
   ]
  },
  {
   "cell_type": "markdown",
   "metadata": {},
   "source": [
    "# Figure 03\n",
    "\n",
    "Unprepare IR bSSFP is no standard module in BARTs simulation tool.\n",
    "Therefore, we need to comment out some lines of BARTs simulation interface:"
   ]
  },
  {
   "cell_type": "code",
   "execution_count": null,
   "metadata": {},
   "outputs": [],
   "source": [
    "%%bash\n",
    "\n",
    "# Comment out magnetization preparation pulse for IR bSSFP sequence\n",
    "# in BARTs simulation source code\n",
    "sed -i 's/\\/\\/ Alpha\\/2 and TR\\/2/\\/*\\/\\/ Alpha\\/2 and TR\\/2/' $TOOLBOX_PATH/src/simu/simulation.c\n",
    "sed -i 's/alpha_half_preparation(\\&data, h, tol, N, P, xp);/alpha_half_preparation(\\&data, h, tol, N, P, xp);*\\//' $TOOLBOX_PATH/src/simu/simulation.c\n",
    "\n",
    "# Recompile BART\n",
    "D=$(pwd)\n",
    "cd $TOOLBOX_PATH\n",
    "\n",
    "make &>/dev/null\n",
    "\n",
    "cd $D"
   ]
  },
  {
   "cell_type": "markdown",
   "metadata": {},
   "source": [
    "After recompilation of BART, the scripts for Figure 3 can be executed."
   ]
  },
  {
   "cell_type": "code",
   "execution_count": null,
   "metadata": {},
   "outputs": [],
   "source": [
    "%%bash\n",
    "\n",
    "# Go to Figure folder\n",
    "cd 03_unprep_irbssfp\n",
    "\n",
    "# Run scripts\n",
    "./run_figs.sh  &>/dev/null\n",
    "\n",
    "cd .."
   ]
  },
  {
   "cell_type": "code",
   "execution_count": null,
   "metadata": {},
   "outputs": [],
   "source": [
    "# Plot new created and reference figure next to each other\n",
    "rcParams['figure.figsize'] = 18 , 20\n",
    "\n",
    "# display images\n",
    "fig, ax = plt.subplots(1,2)\n",
    "ax[0].imshow(mpimg.imread('03_unprep_irbssfp/figure_03.png'))\n",
    "ax[1].imshow(mpimg.imread('03_unprep_irbssfp/figure_03_ref.png'))\n",
    "\n",
    "ax[0].set_title('New Created Figure 3')\n",
    "ax[0].set_yticklabels([])\n",
    "ax[0].set_xticklabels([])\n",
    "ax[0].xaxis.set_ticks_position('none')\n",
    "ax[0].yaxis.set_ticks_position('none')\n",
    "ax[0].set_axis_off()\n",
    "\n",
    "ax[1].set_title('Reference Figure 3')\n",
    "ax[1].set_yticklabels([])\n",
    "ax[1].set_xticklabels([])\n",
    "ax[1].xaxis.set_ticks_position('none')\n",
    "ax[1].yaxis.set_ticks_position('none')\n",
    "ax[1].set_axis_off()"
   ]
  },
  {
   "cell_type": "markdown",
   "metadata": {},
   "source": [
    "Compare results with reference values. Calculate normalized rot-mean-square error (NRMSE) between reference and newly reproduced result."
   ]
  },
  {
   "cell_type": "code",
   "execution_count": null,
   "metadata": {},
   "outputs": [],
   "source": [
    "%%bash\n",
    "\n",
    "# NRMSE between difference quotient results\n",
    "\n",
    "# Up to this TOL the NRMSE the results are assumed to be successfully reproduced\n",
    "TOL_GRAD=0.005 # Larger than DSA error, because of numerical noise\n",
    "\n",
    "ERROR_GRAD=$(bart nrmse 03_unprep_irbssfp/testing/grad 03_unprep_irbssfp/ref/grad)\n",
    "\n",
    "echo \"Difference quotient error is: ${ERROR_GRAD}.\"\n",
    "\n",
    "if (( $(echo \"$ERROR_GRAD > $TOL_GRAD\" |bc -l) ));\n",
    "then\n",
    "    echo \"Reproduction was NOT SUCCESSFUL.\"\n",
    "else\n",
    "    echo -e \"Reproduction was SUCCESSFUL.\\n\\n\"\n",
    "fi\n",
    "\n",
    "\n",
    "# NRMSE between direct sensitivity analysis results\n",
    "\n",
    "TOL_SENS=0.0001\n",
    "\n",
    "ERROR_SENS=$(bart nrmse 03_unprep_irbssfp/testing/sens 03_unprep_irbssfp/ref/sens)\n",
    "\n",
    "echo \"Direct Sensitivity Analysis error is: ${ERROR_SENS}.\"\n",
    "\n",
    "if (( $(echo \"$ERROR_SENS > $TOL_SENS\" |bc -l) ));\n",
    "then\n",
    "    echo \"Reproduction was NOT SUCCESSFUL.\"\n",
    "else\n",
    "    echo \"Reproduction was SUCCESSFUL.\"\n",
    "fi"
   ]
  },
  {
   "cell_type": "code",
   "execution_count": null,
   "metadata": {},
   "outputs": [],
   "source": []
  }
 ],
 "metadata": {
  "kernelspec": {
   "display_name": "Python 3",
   "language": "python",
   "name": "python3"
  },
  "language_info": {
   "codemirror_mode": {
    "name": "ipython",
    "version": 3
   },
   "file_extension": ".py",
   "mimetype": "text/x-python",
   "name": "python",
   "nbconvert_exporter": "python",
   "pygments_lexer": "ipython3",
   "version": "3.9.2"
  }
 },
 "nbformat": 4,
 "nbformat_minor": 2
}
